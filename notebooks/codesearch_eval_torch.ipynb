{
 "metadata": {
  "language_info": {
   "codemirror_mode": {
    "name": "ipython",
    "version": 3
   },
   "file_extension": ".py",
   "mimetype": "text/x-python",
   "name": "python",
   "nbconvert_exporter": "python",
   "pygments_lexer": "ipython3",
   "version": "3.9.2"
  },
  "orig_nbformat": 4,
  "kernelspec": {
   "name": "python3",
   "display_name": "Python 3.9.2 64-bit ('flax-sentence-embeddings-zVHyP_u9-py3.9': venv)"
  },
  "interpreter": {
   "hash": "4fefb6681ffd05f7a8a0fc21cb824f16da8a96bee455cd07578e426e280af9a4"
  }
 },
 "nbformat": 4,
 "nbformat_minor": 2,
 "cells": [
  {
   "cell_type": "code",
   "execution_count": 1,
   "metadata": {},
   "outputs": [],
   "source": [
    "import sys  \n",
    "sys.path.insert(0, '..')"
   ]
  },
  {
   "cell_type": "code",
   "execution_count": 2,
   "metadata": {},
   "outputs": [
    {
     "output_type": "error",
     "ename": "ModuleNotFoundError",
     "evalue": "No module named 'torch_xla'",
     "traceback": [
      "\u001b[0;31m---------------------------------------------------------------------------\u001b[0m",
      "\u001b[0;31mModuleNotFoundError\u001b[0m                       Traceback (most recent call last)",
      "\u001b[0;32m/tmp/ipykernel_182299/68058513.py\u001b[0m in \u001b[0;36m<module>\u001b[0;34m\u001b[0m\n\u001b[1;32m      1\u001b[0m \u001b[0;32mimport\u001b[0m \u001b[0mtorch\u001b[0m\u001b[0;34m\u001b[0m\u001b[0;34m\u001b[0m\u001b[0m\n\u001b[0;32m----> 2\u001b[0;31m \u001b[0;32mimport\u001b[0m \u001b[0mtorch_xla\u001b[0m\u001b[0;34m.\u001b[0m\u001b[0mcore\u001b[0m\u001b[0;34m.\u001b[0m\u001b[0mxla_model\u001b[0m \u001b[0;32mas\u001b[0m \u001b[0mxm\u001b[0m\u001b[0;34m\u001b[0m\u001b[0;34m\u001b[0m\u001b[0m\n\u001b[0m",
      "\u001b[0;31mModuleNotFoundError\u001b[0m: No module named 'torch_xla'"
     ]
    }
   ],
   "source": [
    "import torch\n",
    "import torch_xla.core.xla_model as xm"
   ]
  },
  {
   "cell_type": "code",
   "execution_count": 25,
   "metadata": {},
   "outputs": [],
   "source": [
    "from datasets import load_dataset\n",
    "from transformers import RobertaTokenizer, RobertaModel\n",
    "from dataclasses import dataclass\n",
    "from typing import Union\n",
    "from transformers import PreTrainedTokenizer, PreTrainedTokenizerFast\n",
    "from tqdm import tqdm"
   ]
  },
  {
   "cell_type": "code",
   "execution_count": 3,
   "metadata": {},
   "outputs": [],
   "source": [
    "# Copyright (c) Microsoft Corporation.\n",
    "# Licensed under the MIT License.\n",
    "import torch.nn as nn\n",
    "    \n",
    "class Model(nn.Module):   \n",
    "    def __init__(self, encoder):\n",
    "        super(Model, self).__init__()\n",
    "        self.encoder = encoder\n",
    "      \n",
    "    def forward(self, code_inputs=None, nl_inputs=None): \n",
    "        if code_inputs is not None:\n",
    "            return self.encoder(code_inputs,attention_mask=code_inputs.ne(1))[1]\n",
    "        else:\n",
    "            return self.encoder(nl_inputs,attention_mask=nl_inputs.ne(1))[1]"
   ]
  },
  {
   "cell_type": "code",
   "execution_count": 11,
   "metadata": {},
   "outputs": [],
   "source": [
    "tokenizer = RobertaTokenizer.from_pretrained(\"microsoft/codebert-base\")\n",
    "model = RobertaModel.from_pretrained(\"../code-search-net/codebert/Siamese-model/demo/python_model\")\n"
   ]
  },
  {
   "cell_type": "code",
   "execution_count": 12,
   "metadata": {},
   "outputs": [],
   "source": [
    "query = \"set a variable as hello world\"\n",
    "query_vec = model(tokenizer(query,return_tensors='pt')['input_ids'])[1]\n",
    "code_1=\"print('hello world')\"\n",
    "code1_vec = model(tokenizer(code_1,return_tensors='pt')['input_ids'])[1]\n",
    "code_2=\"s = 'hello world'\"\n",
    "code2_vec = model(tokenizer(code_2,return_tensors='pt')['input_ids'])[1]\n",
    "code_3=\"hello world\"\n",
    "code3_vec = model(tokenizer(code_3,return_tensors='pt')['input_ids'])[1]\n",
    "code_vecs=torch.cat((code1_vec,code2_vec,code3_vec),0)\n",
    "codes = [code_1,code_2,code_3]\n",
    "scores=torch.einsum(\"ab,cb->ac\",query_vec,code_vecs)\n",
    "scores=torch.softmax(scores,-1)\n",
    "print(\"Query:\",query)\n",
    "for i in range(3):\n",
    "    print(\"Code:\",codes[i])\n",
    "    print(\"Score:\",scores[0,i].item())"
   ]
  },
  {
   "cell_type": "code",
   "execution_count": 15,
   "metadata": {},
   "outputs": [
    {
     "output_type": "stream",
     "name": "stderr",
     "text": [
      "Using custom data configuration default-2ad89bbbeda92323\n",
      "Reusing dataset csv (/home/pascal_voitot/.cache/huggingface/datasets/csv/default-2ad89bbbeda92323/0.0.0/e138af468cb14e747fb46a19c787ffcfa5170c821476d20d5304287ce12bbc23)\n"
     ]
    }
   ],
   "source": [
    "ds = load_dataset(\"csv\", data_files={\"test\" : \"../data/codesearchnet_test.csv.gz\"}, split=\"test\")"
   ]
  },
  {
   "cell_type": "code",
   "execution_count": null,
   "metadata": {},
   "outputs": [],
   "source": [
    "model.load_state_dict(torch.load(\"../code-search-net/codebert/Siamese-model\"),strict=False) "
   ]
  },
  {
   "cell_type": "code",
   "execution_count": 45,
   "metadata": {},
   "outputs": [],
   "source": [
    "def eval(model, model_inputs1, model_inputs2):\n",
    "    def mean_pooling(model_output, attention_mask):\n",
    "        token_embeddings = model_output[0]  # First element of model_output contains all token embeddings\n",
    "        input_mask_expanded = attention_mask.unsqueeze(-1).expand(token_embeddings.size()).float()\n",
    "        return torch.sum(token_embeddings * input_mask_expanded, 1) / torch.clamp(input_mask_expanded.sum(1), min=1e-9)\n",
    "\n",
    "    def _forward(model_input):\n",
    "        model_output = model(**model_input)\n",
    "        embeddings = mean_pooling(model_output, model_input['attention_mask'])\n",
    "        embeddings = torch.nn.functional.normalize(embeddings, p=2, dim=1)\n",
    "\n",
    "        return embeddings\n",
    "\n",
    "    embedding1, embedding2 = _forward(model_inputs1), _forward(model_inputs2)\n",
    "    return embedding1, embedding2"
   ]
  },
  {
   "cell_type": "code",
   "execution_count": 44,
   "metadata": {},
   "outputs": [],
   "source": [
    "def get_batched_dataset(dataset, batch_size, seed=None):\n",
    "    if seed is not None:\n",
    "        dataset = dataset.shuffle(seed=seed)\n",
    "    for i in range(len(dataset) // batch_size):\n",
    "        batch = dataset[i*batch_size: (i+1)*batch_size]\n",
    "        yield dict(batch)\n",
    "\n",
    "@dataclass\n",
    "class DataCollator:\n",
    "    tokenizer: Union[PreTrainedTokenizerFast, PreTrainedTokenizer]\n",
    "    input1_maxlen: int = 128\n",
    "    input2_maxlen: int = 128\n",
    "\n",
    "    def __call__(self, batch):\n",
    "        # Currently only static padding; TODO: change below for adding dynamic padding support\n",
    "        model_input1 = self.tokenizer(batch[\"docstring\"], return_tensors=\"pt\", max_length=self.input1_maxlen, truncation=True, padding=\"max_length\")\n",
    "        model_input2 = self.tokenizer(batch[\"code\"], return_tensors=\"pt\", max_length=self.input2_maxlen, truncation=True, padding=\"max_length\")\n",
    "        model_input1, model_input2 = dict(model_input1), dict(model_input2)\n",
    "        return model_input1, model_input2\n",
    "        # return model_input1, model_input2"
   ]
  },
  {
   "cell_type": "code",
   "execution_count": 51,
   "metadata": {},
   "outputs": [],
   "source": [
    "from torch_impl.util import cos_sim\n",
    "import numpy as np\n",
    "\n",
    "def batch_accuracy(embeddings_a: np.ndarray, embeddings_b: np.ndarray,\n",
    "                   similarity_fct=cos_sim):\n",
    "    \"\"\"\n",
    "\n",
    "    :param embeddings_a:\n",
    "    :param embeddings_b: if passing additional hard negatives, use jnp.concatenate([positives, negatives], axis=0) as input.\n",
    "    :param similarity_fct:\n",
    "    :return:\n",
    "    \"\"\"\n",
    "    assert (len(embeddings_a) <= len(embeddings_b))\n",
    "    scores = similarity_fct(embeddings_a, embeddings_b)\n",
    "    assert scores.shape == (len(embeddings_a), len(embeddings_b))\n",
    "\n",
    "    indices = np.argmax(scores, axis=1)\n",
    "\n",
    "    labels = np.arange(len(scores), dtype=np.int32)\n",
    "\n",
    "    return np.sum(indices == labels)\n",
    "\n",
    "    "
   ]
  },
  {
   "cell_type": "code",
   "execution_count": 41,
   "metadata": {},
   "outputs": [],
   "source": [
    "data_collator = DataCollator(\n",
    "    tokenizer=tokenizer,\n",
    "    input1_maxlen=200,\n",
    "    input2_maxlen=200,\n",
    ")"
   ]
  },
  {
   "cell_type": "code",
   "execution_count": 56,
   "metadata": {},
   "outputs": [
    {
     "output_type": "stream",
     "name": "stderr",
     "text": [
      "Compute:   0%|          | 1/1113 [00:01<26:57,  1.45s/it](32, 768) (32, 768) 0\n",
      "Compute:   0%|          | 2/1113 [00:02<26:19,  1.42s/it](32, 768) (32, 768) 0\n",
      "accs 0.0\n",
      "\n"
     ]
    }
   ],
   "source": [
    "from itertools import islice\n",
    "\n",
    "batch_size = 32\n",
    "\n",
    "total = len(ds) // batch_size\n",
    "batch_iterator = get_batched_dataset(ds, batch_size, seed=None)\n",
    "\n",
    "queries = []\n",
    "codes = []\n",
    "accs = 0\n",
    "for j, batch in tqdm(enumerate(islice(batch_iterator, 2)), desc=f\"Compute\", total=total):\n",
    "    model_input1, model_input2 = data_collator(batch)\n",
    "    emb1, emb2 = eval(model, model_input1, model_input2)\n",
    "\n",
    "    emb1 = emb1.detach().numpy()\n",
    "    emb2 = emb2.detach().numpy()\n",
    "    batch_accs = batch_accuracy(emb1, emb2)\n",
    "    print(emb1.shape, emb2.shape, batch_accs)\n",
    "    accs += batch_accs\n",
    "    \n",
    "    # done in eval\n",
    "    # emb1 = normalize_L2(emb1)\n",
    "    # emb2 = normalize_L2(emb2)\n",
    "    queries.append(emb1)\n",
    "    codes.append(emb2)\n",
    "\n",
    "accs = accs / len(ds)\n",
    "print(\"accs\", accs)\n",
    "\n"
   ]
  },
  {
   "cell_type": "code",
   "execution_count": null,
   "metadata": {},
   "outputs": [],
   "source": [
    "codes_all = np.vstack(codes)\n",
    "print(codes_all.shape)\n",
    "\n",
    "queries_all = np.vstack(queries)\n",
    "print(queries_all.shape)\n",
    "\n",
    "import faiss\n",
    "\n",
    "index = faiss.IndexFlatL2(768) \n",
    "index.add(codes_all)"
   ]
  }
 ]
}